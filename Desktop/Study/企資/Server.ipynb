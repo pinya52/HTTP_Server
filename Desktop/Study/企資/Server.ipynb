{
 "cells": [
  {
   "cell_type": "code",
   "execution_count": 1,
   "metadata": {},
   "outputs": [],
   "source": [
    "import socket\n",
    "import struct\n",
    "from _thread import *\n",
    "import threading"
   ]
  },
  {
   "cell_type": "code",
   "execution_count": null,
   "metadata": {},
   "outputs": [],
   "source": [
    "print_lock = threading.lock()"
   ]
  },
  {
   "cell_type": "code",
   "execution_count": 2,
   "metadata": {},
   "outputs": [],
   "source": [
    "#socket\n",
    "s = socket.socket(socket.AF_INET, socket.SOCK_STREAM)"
   ]
  },
  {
   "cell_type": "code",
   "execution_count": 3,
   "metadata": {
    "scrolled": true
   },
   "outputs": [],
   "source": [
    "#bind（IP, TCP port）\n",
    "pars = ('127.0.0.1', 80)#change server port whatever you want\n",
    "s.bind(pars)"
   ]
  },
  {
   "cell_type": "code",
   "execution_count": null,
   "metadata": {},
   "outputs": [],
   "source": [
    "#listen\n",
    "'''become a server port\n",
    "    waiting foe receiving message\n",
    "    listen(x) -> x clients can be connected to this server'''\n",
    "s.listen(5)"
   ]
  },
  {
   "cell_type": "code",
   "execution_count": null,
   "metadata": {},
   "outputs": [],
   "source": [
    "#recv, send and close\n",
    "def serverClient(clientsocket, address):\n",
    "    #recv msg from client continously\n",
    "    while True:\n",
    "        #recv(x) -> recv at most 1024 bytes msg\n",
    "        data = clientsocket.recv(1024)\n",
    "        unpacked_data = struct.unpack(\"!BBHHHI\", data)\n",
    "        print('From client', unpacked_data)\n",
    "        \n",
    "        #if msg is not empty, send somthing back\n",
    "        if unpacked_data == 'good.html':  \n",
    "            reply = '<html><body>'+unpacked_data+'</body></html>'\n",
    "            '''type_value = 0\n",
    "            code_value = unpacked_data[1]\n",
    "            unused_value = unpacked_data[2]\n",
    "            identifier = unpacked_data[3]\n",
    "            sequence_value = unpacked_data[4]\n",
    "            message_value = unpacked_data[5]\n",
    "\n",
    "            data_send = struct.pack(\"!BBHHHI\", type_value, code_value, unused_value, identifier, sequence_value, \n",
    "                                    message_value)\n",
    "            clientsocket.send(data_send)\n",
    "            print('Send by server:', struct.unpack(\"!BBHHHI\", data_send))'''\n",
    "        elif unpacked_data == 'redirect.html'\n",
    "        elif unpacked_data == 'notfound.html'\n",
    "        else:\n",
    "            print_lock.release()\n",
    "            break\n",
    "            \n",
    "            \n",
    "        #(Not using this part)close the socket\n",
    "        #if data == b'close':\n",
    "            #clientsocket.close()\n",
    "    clientsocket.close()"
   ]
  },
  {
   "cell_type": "code",
   "execution_count": null,
   "metadata": {},
   "outputs": [
    {
     "name": "stdout",
     "output_type": "stream",
     "text": [
      "From client (8, 255, 0, 13766, 1, 106306056)\n",
      "Send by server: (0, 255, 0, 13766, 1, 106306056)\n"
     ]
    }
   ],
   "source": [
    "#accept\n",
    "while True:\n",
    "    #accpet new client and get info\n",
    "    (clientsocket, address) = s.accept()\n",
    "    \n",
    "    '''create a new thread and start excute \n",
    "    'target' function with arguments 'arg' ''' \n",
    "    threading.Thread(target = serverClient, \n",
    "                     args = (clientsocket, address)).start()\n",
    "    \n",
    "    \n",
    "    "
   ]
  },
  {
   "cell_type": "code",
   "execution_count": null,
   "metadata": {},
   "outputs": [],
   "source": []
  }
 ],
 "metadata": {
  "kernelspec": {
   "display_name": "Python 3",
   "language": "python",
   "name": "python3"
  },
  "language_info": {
   "codemirror_mode": {
    "name": "ipython",
    "version": 3
   },
   "file_extension": ".py",
   "mimetype": "text/x-python",
   "name": "python",
   "nbconvert_exporter": "python",
   "pygments_lexer": "ipython3",
   "version": "3.7.3"
  }
 },
 "nbformat": 4,
 "nbformat_minor": 2
}
